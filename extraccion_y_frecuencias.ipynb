{
 "cells": [
  {
   "cell_type": "code",
   "execution_count": 2,
   "metadata": {},
   "outputs": [
    {
     "name": "stderr",
     "output_type": "stream",
     "text": [
      "[nltk_data] Downloading package punkt to\n",
      "[nltk_data]     C:\\Users\\Usuario\\AppData\\Roaming\\nltk_data...\n",
      "[nltk_data]   Package punkt is already up-to-date!\n",
      "[nltk_data] Downloading package stopwords to\n",
      "[nltk_data]     C:\\Users\\Usuario\\AppData\\Roaming\\nltk_data...\n",
      "[nltk_data]   Package stopwords is already up-to-date!\n"
     ]
    },
    {
     "name": "stdout",
     "output_type": "stream",
     "text": [
      "Paginas Antiguo testamento: 1174\n",
      "Paginas Nuevo testamento: 346\n"
     ]
    }
   ],
   "source": [
    "import pandas as pd\n",
    "import numpy as np\n",
    "import PyPDF2\n",
    "import nltk\n",
    "import re\n",
    "nltk.download('punkt')\n",
    "nltk.download('stopwords')\n",
    "from nltk.corpus import stopwords\n",
    "from nltk.tokenize import word_tokenize\n",
    "from nltk.probability import FreqDist\n",
    "pd.set_option('display.max_rows',None)\n",
    "\n",
    "# Abrir el archivo del Antiguo Testamento\n",
    "with open(\"./Catolico/La biblia antiguo-1-1174.pdf\", 'rb') as file_antiguo:\n",
    "    antiguo_testamento_reader = PyPDF2.PdfReader(file_antiguo)\n",
    "    paginas_antiguo_testamento = len(antiguo_testamento_reader.pages) \n",
    "# Abrir el archivo del Nuevo Testamento\n",
    "with open(\"./Catolico/La biblia nuevo-1175-1520.pdf\", 'rb') as file_nuevo:\n",
    "    nuevo_testamento_reader = PyPDF2.PdfReader(file_nuevo)\n",
    "    paginas_nuevo_testamento = len(nuevo_testamento_reader.pages)  # Use len instead\n",
    "\n",
    "# Imprimir el número de páginas\n",
    "print(f\"Paginas Antiguo testamento: {paginas_antiguo_testamento}\")\n",
    "print(f\"Paginas Nuevo testamento: {paginas_nuevo_testamento}\")"
   ]
  },
  {
   "cell_type": "code",
   "execution_count": 3,
   "metadata": {},
   "outputs": [],
   "source": [
    "def extract_text(pdf_path):\n",
    "    with open(pdf_path, 'rb') as pdf_file:  # Open the file in binary read mode\n",
    "        pdf_reader = PyPDF2.PdfReader(pdf_file)\n",
    "        texto_completo = \"\"\n",
    "        for pagina in pdf_reader.pages:\n",
    "            texto_extraido = pagina.extract_text()\n",
    "            if texto_extraido:\n",
    "                texto_completo += texto_extraido\n",
    "        return texto_completo\n",
    "\n",
    "antiguo_testamento = extract_text(\"./Catolico/La biblia antiguo-1-1174.pdf\")\n",
    "nuevo_testamento = extract_text(\"./Catolico/La biblia nuevo-1175-1520.pdf\")\n",
    "\n"
   ]
  },
  {
   "cell_type": "code",
   "execution_count": 4,
   "metadata": {},
   "outputs": [],
   "source": [
    "#Funciones para Textos\n",
    "def limpieza_texto(texto):\n",
    "\n",
    "    # Descargar stopwords en español (si no están descargadas)\n",
    "    try:\n",
    "        stopwords.words('spanish')\n",
    "    except LookupError:\n",
    "        nltk.download('stopwords')\n",
    "\n",
    "    # Importar stopwords\n",
    "    stop_words = stopwords.words('spanish')\n",
    "\n",
    "    # Tokenización\n",
    "    tokens = word_tokenize(texto)\n",
    "\n",
    "    # Eliminar símbolos y convertir a minúsculas\n",
    "    patron_simbolos = r\"[^\\w\\s]\"\n",
    "    tokens = [re.sub(patron_simbolos, \"\", token).lower() for token in tokens]\n",
    "\n",
    "    # Eliminar tildes\n",
    "    diccionario_tildes = str.maketrans(\"áéíóú\", \"aeiou\")\n",
    "    tokens = [token.translate(diccionario_tildes) for token in tokens]\n",
    "\n",
    "    # Eliminar stopwords y palabras vacías después de eliminar símbolos y tildes\n",
    "    tokens = [token for token in tokens if token and token not in stop_words]\n",
    "\n",
    "    # Eliminar números\n",
    "    patron_numeros = r\"\\d+\"\n",
    "    tokens = [re.sub(patron_numeros, \"\", token) for token in tokens]\n",
    "\n",
    "    # Devolver texto limpio\n",
    "    texto_limpio = \" \".join(tokens)\n",
    "\n",
    "    return texto_limpio\n",
    "def frecuencia_textos(texto_tokenizado):\n",
    "    token = word_tokenize(texto_tokenizado)\n",
    "    frecuencia_palabras = FreqDist(token)\n",
    "    df = pd.DataFrame(frecuencia_palabras.items(), columns=['palabra', 'frecuencia'])\n",
    "    df= df.sort_values(by='frecuencia', ascending=False)\n",
    "    return df\n",
    "\n"
   ]
  },
  {
   "cell_type": "markdown",
   "metadata": {},
   "source": [
    "ANTIGUO TESTAMENTO LIMPIEZA !!!"
   ]
  },
  {
   "cell_type": "code",
   "execution_count": 5,
   "metadata": {},
   "outputs": [],
   "source": [
    "df_limpio = limpieza_texto(antiguo_testamento)\n",
    "df = frecuencia_textos(df_limpio)\n",
    "\n",
    "palabras_a_eliminar = [\n",
    "    \"file\",\n",
    "    \"and\",\n",
    "    \"cdocuments\",\n",
    "    \"electronicosbibliabibliatxt\",\n",
    "    \"of\",\n",
    "    \"settingsadministradormis\",\n",
    "    \"docu\",\n",
    "    \"slibros_electronicoslibros\",\n",
    "    \"settingsadministrad\",\n",
    "    \"tronicoslibros\",\n",
    "    \"ctronicoslibros\",\n",
    "    \"settingsadministrado\"\n",
    "]\n",
    "\n",
    "df_antiguo = df[~df['palabra'].isin(palabras_a_eliminar)]\n",
    "df_antiguo.to_csv('frec_antiguo_test.csv', index=False)\n"
   ]
  },
  {
   "cell_type": "markdown",
   "metadata": {},
   "source": [
    "NUEVO TESTAMENTO LIMPIEZA !!!"
   ]
  },
  {
   "cell_type": "code",
   "execution_count": 6,
   "metadata": {},
   "outputs": [],
   "source": [
    "df_limpio = limpieza_texto(nuevo_testamento)\n",
    "df = frecuencia_textos(df_limpio)\n",
    "\n",
    "palabras_a_eliminar = [\n",
    "    \"file\",\n",
    "    \"and\",\n",
    "    \"cdocuments\",\n",
    "    \"electronicosbibliabibliatxt\",\n",
    "    \"of\",\n",
    "    \"settingsadministradormis\",\n",
    "    \"docu\",\n",
    "    \"slibros_electronicoslibros\",\n",
    "    \"settingsadministrad\",\n",
    "    \"tronicoslibros\",\n",
    "    \"ctronicoslibros\",\n",
    "    \"settingsadministrado\"\n",
    "]\n",
    "\n",
    "df_nuevo = df[~df['palabra'].isin(palabras_a_eliminar)]\n",
    "df_nuevo.to_csv('frec_nuevo_test.csv', index=False)\n"
   ]
  },
  {
   "cell_type": "markdown",
   "metadata": {},
   "source": [
    "ANALISIS ANTIGUO Y NUEVO TESTAMENTO"
   ]
  },
  {
   "cell_type": "code",
   "execution_count": 7,
   "metadata": {},
   "outputs": [],
   "source": [
    "df_combinado = pd.merge(df_antiguo, df_nuevo, on='palabra', how='outer', suffixes=('_antiguo_testamento', '_nuevo_testamento'))\n",
    "df_combinado.fillna(0, inplace=True)\n",
    "df_combinado['frecuencia_total'] = df_combinado['frecuencia_antiguo_testamento'] + df_combinado['frecuencia_nuevo_testamento']\n",
    "df_combinado = df_combinado.sort_values(by='frecuencia_total', ascending=False)\n"
   ]
  },
  {
   "cell_type": "markdown",
   "metadata": {},
   "source": [
    "ISLAM - CORAN\n",
    "    "
   ]
  },
  {
   "cell_type": "code",
   "execution_count": 11,
   "metadata": {},
   "outputs": [
    {
     "ename": "ValueError",
     "evalue": "DataFrame constructor not properly called!",
     "output_type": "error",
     "traceback": [
      "\u001b[1;31m---------------------------------------------------------------------------\u001b[0m",
      "\u001b[1;31mValueError\u001b[0m                                Traceback (most recent call last)",
      "Cell \u001b[1;32mIn[11], line 3\u001b[0m\n\u001b[0;32m      1\u001b[0m coran \u001b[38;5;241m=\u001b[39m extract_text(\u001b[38;5;124m\"\u001b[39m\u001b[38;5;124m./Islam/Coran.pdf\u001b[39m\u001b[38;5;124m\"\u001b[39m)\n\u001b[0;32m      2\u001b[0m df \u001b[38;5;241m=\u001b[39m pd\u001b[38;5;241m.\u001b[39mDataFrame({\u001b[38;5;124m'\u001b[39m\u001b[38;5;124mtexto\u001b[39m\u001b[38;5;124m'\u001b[39m: [coran]})\n\u001b[1;32m----> 3\u001b[0m coran\u001b[38;5;241m=\u001b[39m\u001b[43mpd\u001b[49m\u001b[38;5;241;43m.\u001b[39;49m\u001b[43mDataFrame\u001b[49m\u001b[43m(\u001b[49m\u001b[43mcoran\u001b[49m\u001b[43m)\u001b[49m\n\u001b[0;32m      4\u001b[0m coran\u001b[38;5;241m.\u001b[39mto_csv(\u001b[38;5;124m'\u001b[39m\u001b[38;5;124mcoran_csv.csv\u001b[39m\u001b[38;5;124m'\u001b[39m, index\u001b[38;5;241m=\u001b[39m\u001b[38;5;28;01mFalse\u001b[39;00m)\n\u001b[0;32m      6\u001b[0m df_limpio \u001b[38;5;241m=\u001b[39m limpieza_texto(coran)\n",
      "File \u001b[1;32mc:\\Users\\Usuario\\miniconda3\\lib\\site-packages\\pandas\\core\\frame.py:781\u001b[0m, in \u001b[0;36mDataFrame.__init__\u001b[1;34m(self, data, index, columns, dtype, copy)\u001b[0m\n\u001b[0;32m    778\u001b[0m \u001b[38;5;66;03m# For data is scalar\u001b[39;00m\n\u001b[0;32m    779\u001b[0m \u001b[38;5;28;01melse\u001b[39;00m:\n\u001b[0;32m    780\u001b[0m     \u001b[38;5;28;01mif\u001b[39;00m index \u001b[38;5;129;01mis\u001b[39;00m \u001b[38;5;28;01mNone\u001b[39;00m \u001b[38;5;129;01mor\u001b[39;00m columns \u001b[38;5;129;01mis\u001b[39;00m \u001b[38;5;28;01mNone\u001b[39;00m:\n\u001b[1;32m--> 781\u001b[0m         \u001b[38;5;28;01mraise\u001b[39;00m \u001b[38;5;167;01mValueError\u001b[39;00m(\u001b[38;5;124m\"\u001b[39m\u001b[38;5;124mDataFrame constructor not properly called!\u001b[39m\u001b[38;5;124m\"\u001b[39m)\n\u001b[0;32m    783\u001b[0m     index \u001b[38;5;241m=\u001b[39m ensure_index(index)\n\u001b[0;32m    784\u001b[0m     columns \u001b[38;5;241m=\u001b[39m ensure_index(columns)\n",
      "\u001b[1;31mValueError\u001b[0m: DataFrame constructor not properly called!"
     ]
    }
   ],
   "source": [
    "coran = extract_text(\"./Islam/Coran.pdf\")\n",
    "df_limpio = limpieza_texto(coran)\n",
    "df_coran = frecuencia_textos(df_limpio)\n",
    "\n",
    "palabras_a_eliminar = [\n",
    "    \"wwwislamelsal\"\n",
    "]\n",
    "\n",
    "df_coran = df_coran[~df_coran['palabra'].isin(palabras_a_eliminar)]\n",
    "df_coran.to_csv('frec_coran.csv', index=False)"
   ]
  },
  {
   "cell_type": "code",
   "execution_count": 10,
   "metadata": {},
   "outputs": [
    {
     "data": {
      "text/plain": [
       "str"
      ]
     },
     "execution_count": 10,
     "metadata": {},
     "output_type": "execute_result"
    }
   ],
   "source": [
    "type(coran)"
   ]
  },
  {
   "cell_type": "markdown",
   "metadata": {},
   "source": [
    "HINDUISMO - UPANISHADS"
   ]
  },
  {
   "cell_type": "code",
   "execution_count": null,
   "metadata": {},
   "outputs": [],
   "source": [
    "upanishads = extract_text(\"./Hinduismo/Upanishads.pdf\")\n",
    "df_limpio = limpieza_texto(upanishads)\n",
    "df_upanishads = frecuencia_textos(df_limpio)\n",
    "df_upanishads.to_csv('frec_upanishads.csv', index=False)"
   ]
  },
  {
   "cell_type": "markdown",
   "metadata": {},
   "source": [
    "JUDAISMO - EL TORÁ"
   ]
  },
  {
   "cell_type": "code",
   "execution_count": null,
   "metadata": {},
   "outputs": [],
   "source": [
    "tora = extract_text(\"./Judaismo/Torah.pdf\")\n",
    "df_limpio = limpieza_texto(tora)\n",
    "df_tora = frecuencia_textos(df_limpio)\n",
    "\n",
    "palabras_a_eliminar = [\n",
    "    \"s\",\"l\",\"n\",\"ki\",\"v\",\"d\"\n",
    "]\n",
    "df_tora = df_tora[~df_tora['palabra'].isin(palabras_a_eliminar)]\n",
    "df_tora.to_csv('frec_tora.csv', index=False)"
   ]
  }
 ],
 "metadata": {
  "kernelspec": {
   "display_name": "base",
   "language": "python",
   "name": "python3"
  },
  "language_info": {
   "codemirror_mode": {
    "name": "ipython",
    "version": 3
   },
   "file_extension": ".py",
   "mimetype": "text/x-python",
   "name": "python",
   "nbconvert_exporter": "python",
   "pygments_lexer": "ipython3",
   "version": "3.10.9"
  }
 },
 "nbformat": 4,
 "nbformat_minor": 2
}
